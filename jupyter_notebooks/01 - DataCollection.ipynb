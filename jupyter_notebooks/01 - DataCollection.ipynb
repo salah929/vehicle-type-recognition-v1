{
  "cells": [
    {
      "cell_type": "markdown",
      "metadata": {
        "id": "9DryO4viMfRc"
      },
      "source": [
        "---"
      ]
    },
    {
      "cell_type": "markdown",
      "metadata": {
        "id": "0aStgWSO0E0E"
      },
      "source": [
        "# **Data Collection**"
      ]
    },
    {
      "cell_type": "markdown",
      "metadata": {
        "id": "1eLEkw5O0ECa"
      },
      "source": [
        "## Objectives\n",
        "\n",
        "* Fetch data from Kaggle and prepare it for further processes.\n",
        "\n",
        "## Inputs\n",
        "\n",
        "*   Kaggle JSON file - the authentication token. \n",
        "\n",
        "## Outputs\n",
        "\n",
        "* Generate Dataset: inputs/datasets/cars_dataset\n"
      ]
    },
    {
      "cell_type": "markdown",
      "metadata": {
        "id": "9uWZXH9LwoQg"
      },
      "source": [
        "---"
      ]
    },
    {
      "cell_type": "markdown",
      "metadata": {
        "id": "HpTc5-PJVH_i"
      },
      "source": [
        "# Import packages"
      ]
    },
    {
      "cell_type": "code",
      "execution_count": 21,
      "metadata": {
        "id": "7AR_SEgkmYDC"
      },
      "outputs": [],
      "source": [
        "import os"
      ]
    },
    {
      "cell_type": "markdown",
      "metadata": {
        "id": "XMkFbSwxmYDC"
      },
      "source": [
        "## Change the working directory"
      ]
    },
    {
      "cell_type": "code",
      "execution_count": null,
      "metadata": {
        "id": "8SooBUDWVIQK"
      },
      "outputs": [],
      "source": [
        "current_dir = os.getcwd()\n",
        "current_dir"
      ]
    },
    {
      "cell_type": "code",
      "execution_count": null,
      "metadata": {
        "id": "EQ7j8jHhmYDD"
      },
      "outputs": [],
      "source": [
        "os.chdir('d:\\\\vscode-projects\\\\vehicle-type-recognition-v1')\n",
        "print(\"You set a new current directory\")"
      ]
    },
    {
      "cell_type": "code",
      "execution_count": null,
      "metadata": {
        "id": "b107Zs3TmYDD"
      },
      "outputs": [],
      "source": [
        "\n",
        "current_dir = os.getcwd()\n",
        "current_dir"
      ]
    },
    {
      "cell_type": "markdown",
      "metadata": {},
      "source": [
        "## Verify if `kaggle.json` Exists"
      ]
    },
    {
      "cell_type": "code",
      "execution_count": null,
      "metadata": {},
      "outputs": [],
      "source": [
        "if os.path.exists(\"kaggle.json\"):\n",
        "    print(\"kaggle.json found.\")\n",
        "else:\n",
        "    print(\"kaggle.json NOT found. Please upload it to the project root.\")"
      ]
    },
    {
      "cell_type": "markdown",
      "metadata": {
        "id": "CoVu2lp8vZi1"
      },
      "source": [
        "# Install Kaggle"
      ]
    },
    {
      "cell_type": "code",
      "execution_count": null,
      "metadata": {
        "id": "zhrMBzbVvZi2"
      },
      "outputs": [],
      "source": [
        "# install kaggle package\n",
        "%pip install kaggle==1.5.12"
      ]
    },
    {
      "cell_type": "markdown",
      "metadata": {
        "id": "qRwFQLlmwrl9"
      },
      "source": [
        "---"
      ]
    },
    {
      "cell_type": "markdown",
      "metadata": {
        "id": "x9BaDpLjM-rP"
      },
      "source": [
        "Run the cell below **to change the Kaggle configuration directory to the current working directory and set permissions for the Kaggle authentication JSON**."
      ]
    },
    {
      "cell_type": "code",
      "execution_count": 27,
      "metadata": {
        "id": "LVlh18YgbyEg"
      },
      "outputs": [],
      "source": [
        "os.environ['KAGGLE_CONFIG_DIR'] = os.getcwd()"
      ]
    },
    {
      "cell_type": "markdown",
      "metadata": {
        "id": "ySAC0yIkNJm4"
      },
      "source": [
        "Get the dataset path from the [Kaggle URL](https://www.kaggle.com/datasets/jutrera/stanford-car-dataset-by-classes-folder). When you are viewing the dataset at Kaggle, check what is after https://www.kaggle.com/ (in some cases kaggle.com/datasets). You should copy that at KaggleDatasetPath."
      ]
    },
    {
      "cell_type": "markdown",
      "metadata": {
        "id": "ZMekA8u4mYDQ"
      },
      "source": [
        "![Data Set](../images/dataset.png)"
      ]
    },
    {
      "cell_type": "markdown",
      "metadata": {
        "id": "-jg2mrz4aRQf"
      },
      "source": [
        "Set the Kaggle Dataset and Download it."
      ]
    },
    {
      "cell_type": "code",
      "execution_count": null,
      "metadata": {
        "id": "n3u49Wn7byHA"
      },
      "outputs": [],
      "source": [
        "KaggleDatasetPath = \"jutrera/stanford-car-dataset-by-classes-folder\"\n",
        "DestinationFolder = \"inputs/car_dataset\"   \n",
        "! kaggle datasets download -d {KaggleDatasetPath} -p {DestinationFolder}"
      ]
    },
    {
      "cell_type": "markdown",
      "metadata": {
        "id": "onuX0tVRNkB8"
      },
      "source": [
        "Unzip the downloaded file."
      ]
    },
    {
      "cell_type": "code",
      "execution_count": null,
      "metadata": {
        "id": "4sJ4a1-RvZi9"
      },
      "outputs": [],
      "source": [
        "import zipfile\n",
        "zip_path = \"inputs/car_dataset/stanford-car-dataset-by-classes-folder.zip\"\n",
        "extract_to = \"inputs/car_dataset\"\n",
        "\n",
        "with zipfile.ZipFile(zip_path, 'r') as zip_ref:\n",
        "    zip_ref.extractall(extract_to)\n",
        "\n",
        "print(\"Extraction completed.\")"
      ]
    },
    {
      "cell_type": "markdown",
      "metadata": {},
      "source": [
        "Delete the zip file."
      ]
    },
    {
      "cell_type": "code",
      "execution_count": null,
      "metadata": {},
      "outputs": [],
      "source": [
        "zip_path = \"inputs/car_dataset/stanford-car-dataset-by-classes-folder.zip\"\n",
        "\n",
        "if os.path.exists(zip_path):\n",
        "    os.remove(zip_path)\n",
        "    print(\"ZIP file removed successfully.\")\n",
        "else:\n",
        "    print(\"ZIP file not found. It may have already been deleted.\")"
      ]
    },
    {
      "cell_type": "markdown",
      "metadata": {},
      "source": [
        "Move all class folders to a new folder \"inputs\\car_dataset\\car_images"
      ]
    },
    {
      "cell_type": "code",
      "execution_count": null,
      "metadata": {},
      "outputs": [],
      "source": [
        "import shutil\n",
        "\n",
        "# Paths\n",
        "source_train = \"inputs/car_dataset/car_data/car_data/train\"\n",
        "source_test = \"inputs/car_dataset/car_data/car_data/test\"\n",
        "destination = \"inputs/car_dataset/car_images\"\n",
        "\n",
        "# Create destination if it doesn't exist\n",
        "os.makedirs(destination, exist_ok=True)\n",
        "\n",
        "# Function to copy all images from a class folder\n",
        "def copy_images(source_folder, target_folder):\n",
        "    for img in os.listdir(source_folder):\n",
        "        src = os.path.join(source_folder, img)\n",
        "        dst = os.path.join(target_folder, img)\n",
        "        if os.path.isfile(src):\n",
        "            shutil.copy(src, dst)\n",
        "\n",
        "# Function to move or merge class folders\n",
        "def move_or_merge_classes(src_dir, dst_dir):\n",
        "    for class_folder in os.listdir(src_dir):\n",
        "        src_class_path = os.path.join(src_dir, class_folder)\n",
        "        dst_class_path = os.path.join(dst_dir, class_folder)\n",
        "\n",
        "        if not os.path.isdir(src_class_path):\n",
        "            continue\n",
        "\n",
        "        os.makedirs(dst_class_path, exist_ok=True)\n",
        "        copy_images(src_class_path, dst_class_path)\n",
        "\n",
        "# Merge folders from both train and test directories\n",
        "move_or_merge_classes(source_train, destination)\n",
        "move_or_merge_classes(source_test, destination)\n",
        "\n",
        "print(\"All class folders merged into:\", destination)"
      ]
    },
    {
      "cell_type": "markdown",
      "metadata": {},
      "source": [
        "Move .csv files to a new folder \"inputs\\cars_dataset\\csv"
      ]
    },
    {
      "cell_type": "code",
      "execution_count": null,
      "metadata": {},
      "outputs": [],
      "source": [
        "# Define paths\n",
        "base_dir = \"inputs/car_dataset\"\n",
        "csv_dir = os.path.join(base_dir, \"csv\")\n",
        "\n",
        "# Create target folder if it doesn't exist\n",
        "os.makedirs(csv_dir, exist_ok=True)\n",
        "\n",
        "# CSV files to move\n",
        "csv_files = [\"anno_train.csv\", \"anno_test.csv\", \"names.csv\"]\n",
        "\n",
        "# Move each CSV file\n",
        "for file_name in csv_files:\n",
        "    src = os.path.join(base_dir, file_name)\n",
        "    dst = os.path.join(csv_dir, file_name)\n",
        "    if os.path.exists(src):\n",
        "        shutil.move(src, dst)\n"
      ]
    },
    {
      "cell_type": "markdown",
      "metadata": {},
      "source": [
        "Remove the folder \"inputs\\cars_dataset\\car_data"
      ]
    },
    {
      "cell_type": "code",
      "execution_count": null,
      "metadata": {},
      "outputs": [],
      "source": [
        "car_data_path = \"inputs/car_dataset/car_data\"\n",
        "\n",
        "# Check if folder exists before deleting\n",
        "if os.path.exists(car_data_path) and os.path.isdir(car_data_path):\n",
        "    shutil.rmtree(car_data_path)\n",
        "    print(\"car_data' folder removed successfully.\")\n",
        "else:\n",
        "    print(\"car_data' folder not found or already deleted.\")"
      ]
    },
    {
      "cell_type": "markdown",
      "metadata": {
        "id": "b5FvU5UvvZi9"
      },
      "source": [
        "---"
      ]
    },
    {
      "cell_type": "markdown",
      "metadata": {
        "id": "xKUJfg59l1TY"
      },
      "source": [
        "# Data Preparation"
      ]
    },
    {
      "cell_type": "markdown",
      "metadata": {
        "id": "wh5i_Q78vZi-"
      },
      "source": [
        "---"
      ]
    },
    {
      "cell_type": "markdown",
      "metadata": {
        "id": "plF6DoUSvZi-"
      },
      "source": [
        "## Data cleaning"
      ]
    },
    {
      "cell_type": "markdown",
      "metadata": {
        "id": "jWTIucPTvZi-"
      },
      "source": [
        "### Check and remove non-image files"
      ]
    },
    {
      "cell_type": "code",
      "execution_count": 35,
      "metadata": {
        "id": "tyxIhl1PvZi-"
      },
      "outputs": [],
      "source": [
        "def remove_non_image_files(my_data_dir):\n",
        "    image_extensions = ('.png', '.jpg', '.jpeg')\n",
        "    folders = os.listdir(my_data_dir)\n",
        "\n",
        "    image_count = 0\n",
        "    non_image_count = 0\n",
        "\n",
        "    for folder in folders:\n",
        "        folder_path = os.path.join(my_data_dir, folder)\n",
        "        if not os.path.isdir(folder_path):\n",
        "            continue  # Skip non-folder entries\n",
        "\n",
        "        for file in os.listdir(folder_path):\n",
        "            file_path = os.path.join(folder_path, file)\n",
        "            if not file.lower().endswith(image_extensions):\n",
        "                os.remove(file_path)\n",
        "                non_image_count += 1\n",
        "            else:\n",
        "                image_count += 1\n",
        "\n",
        "    print(f\"{image_count} image files, {non_image_count} non-image files removed.\")\n"
      ]
    },
    {
      "cell_type": "code",
      "execution_count": null,
      "metadata": {
        "id": "r7GhG4y2vZi_"
      },
      "outputs": [],
      "source": [
        "remove_non_image_files(my_data_dir=\"inputs/car_dataset/car_images\")"
      ]
    },
    {
      "cell_type": "markdown",
      "metadata": {
        "id": "Zo5HyvEZgUZC"
      },
      "source": [
        "## Split train validation test set"
      ]
    },
    {
      "cell_type": "code",
      "execution_count": 37,
      "metadata": {},
      "outputs": [],
      "source": [
        "import os\n",
        "import shutil\n",
        "import random\n",
        "\n",
        "def split_train_validation_test_images_inplace(source_dir, train_ratio, val_ratio, test_ratio):\n",
        "    # Check if ratios sum to 1.0\n",
        "    if round(train_ratio + val_ratio + test_ratio, 2) != 1.0:\n",
        "        print(\"Ratios must sum to 1.0\")\n",
        "        return\n",
        "\n",
        "    # Get class labels, excluding split folders\n",
        "    class_labels = [folder for folder in os.listdir(source_dir)\n",
        "                    if os.path.isdir(os.path.join(source_dir, folder))\n",
        "                    and folder not in ['train', 'validation', 'test']]\n",
        "\n",
        "    # Create split folders\n",
        "    for subset in ['train', 'validation', 'test']:\n",
        "        for label in class_labels:\n",
        "            path = os.path.join(source_dir, subset, label)\n",
        "            os.makedirs(path, exist_ok=True)\n",
        "\n",
        "    # Move images and remove empty folders\n",
        "    for label in class_labels:\n",
        "        class_path = os.path.join(source_dir, label)\n",
        "        images = os.listdir(class_path)\n",
        "        random.shuffle(images)\n",
        "\n",
        "        n_total = len(images)\n",
        "        n_train = int(n_total * train_ratio)\n",
        "        n_val = int(n_total * val_ratio)\n",
        "\n",
        "        for idx, image in enumerate(images):\n",
        "            src = os.path.join(class_path, image)\n",
        "\n",
        "            if idx < n_train:\n",
        "                dst = os.path.join(source_dir, 'train', label, image)\n",
        "            elif idx < n_train + n_val:\n",
        "                dst = os.path.join(source_dir, 'validation', label, image)\n",
        "            else:\n",
        "                dst = os.path.join(source_dir, 'test', label, image)\n",
        "\n",
        "            shutil.move(src, dst)\n",
        "\n",
        "        # Remove the now-empty original class folder\n",
        "        if os.path.exists(class_path) and not os.listdir(class_path):\n",
        "            os.rmdir(class_path)\n",
        "\n",
        "    print(\"All classes processed and original folders removed.\")\n"
      ]
    },
    {
      "cell_type": "markdown",
      "metadata": {
        "id": "74_6OZMWgYIP"
      },
      "source": [
        "Conventionally,\n",
        "* The training set is divided into a 0.70 ratio of data.\n",
        "* The validation set is divided into a 0.10 ratio of data.\n",
        "* The test set is divided into a 0.20 ratio of data."
      ]
    },
    {
      "cell_type": "code",
      "execution_count": null,
      "metadata": {
        "id": "24e-HbOdgYO1"
      },
      "outputs": [],
      "source": [
        "split_train_validation_test_images_inplace(\n",
        "    source_dir=\"inputs/car_dataset/car_images\",\n",
        "    train_ratio=0.7,\n",
        "    val_ratio=0.1,\n",
        "    test_ratio=0.2\n",
        ")"
      ]
    },
    {
      "cell_type": "markdown",
      "metadata": {
        "id": "ctcuyZrmhKYo"
      },
      "source": [
        "---"
      ]
    }
  ],
  "metadata": {
    "accelerator": "GPU",
    "colab": {
      "name": "01 - DataCollection.ipynb",
      "provenance": []
    },
    "kernelspec": {
      "display_name": "Python 3",
      "language": "python",
      "name": "python3"
    },
    "language_info": {
      "codemirror_mode": {
        "name": "ipython",
        "version": 3
      },
      "file_extension": ".py",
      "mimetype": "text/x-python",
      "name": "python",
      "nbconvert_exporter": "python",
      "pygments_lexer": "ipython3",
      "version": "3.12.8"
    }
  },
  "nbformat": 4,
  "nbformat_minor": 0
}
